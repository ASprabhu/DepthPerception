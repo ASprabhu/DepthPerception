{
  "nbformat": 4,
  "nbformat_minor": 0,
  "metadata": {
    "colab": {
      "name": "Packnet +pseudo_lidar.ipynb",
      "provenance": [],
      "collapsed_sections": []
    },
    "kernelspec": {
      "name": "python3",
      "display_name": "Python 3"
    },
    "language_info": {
      "name": "python"
    }
  },
  "cells": [
    {
      "cell_type": "markdown",
      "source": [
        "# **PackNet SFM**"
      ],
      "metadata": {
        "id": "N7UeBmzVJYiw"
      }
    },
    {
      "cell_type": "code",
      "source": [
        "!git clone https://github.com/ASprabhu/DepthPerception.git"
      ],
      "metadata": {
        "id": "Y5VxVENDJI7r"
      },
      "execution_count": null,
      "outputs": []
    },
    {
      "cell_type": "code",
      "source": [
        "!unzip /content/DepthPerception/Data/KITTI_mini.zip"
      ],
      "metadata": {
        "id": "pZ7dRmURKdUB"
      },
      "execution_count": null,
      "outputs": []
    },
    {
      "cell_type": "markdown",
      "source": [
        "Download Checkpoint"
      ],
      "metadata": {
        "id": "kGxQC7S8JtLE"
      }
    },
    {
      "cell_type": "code",
      "source": [
        "!wget https://tri-ml-public.s3.amazonaws.com/github/packnet-sfm/models/PackNet01_MR_selfsup_D.ckpt"
      ],
      "metadata": {
        "id": "9rGbEi84JNVH"
      },
      "execution_count": null,
      "outputs": []
    },
    {
      "cell_type": "code",
      "source": [
        "!pip install yacs"
      ],
      "metadata": {
        "id": "yn_MPVRJJP8y"
      },
      "execution_count": null,
      "outputs": []
    },
    {
      "cell_type": "code",
      "source": [
        "!python /content/DepthPerception/Code/packnet-sfm/scripts/infer.py --checkpoint /content/PackNet01_MR_selfsup_D.ckpt --input /content/KITTI_mini/object/testing/image_2 --output /content/KITTI_mini/object/testing/image_2_depth_png"
      ],
      "metadata": {
        "id": "bK0m0n4uJSA_"
      },
      "execution_count": null,
      "outputs": []
    },
    {
      "cell_type": "markdown",
      "source": [
        "**Pseudo Lidar Generation**"
      ],
      "metadata": {
        "id": "IlbZXkA9J4lA"
      }
    },
    {
      "cell_type": "code",
      "source": [
        "!python /content/DepthPerception/Code/pseudo_lidar_psmnet/preprocessing/generate_lidar.py  \\\n",
        "    --calib_dir /content/KITTI_mini/object/testing/calib/ \\\n",
        "    --save_dir /content/KITTI_mini/object/testing/velodyne/ \\\n",
        "    --save_plot_dir /content/KITTI_mini/object/testing/pseudo_lidar_plot/ \\\n",
        "    --disparity_dir /content/KITTI_mini/object/testing/image_2_depth/ \\\n",
        "    --max_high 1 \\\n",
        "    --is_depth \\\n",
        "    --save_plot False"
      ],
      "metadata": {
        "id": "0DzGI8FiI-8y"
      },
      "execution_count": null,
      "outputs": []
    }
  ]
}