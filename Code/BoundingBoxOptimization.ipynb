{
  "nbformat": 4,
  "nbformat_minor": 0,
  "metadata": {
    "colab": {
      "name": "BoundingBoxOptimization.ipynb",
      "provenance": [],
      "machine_shape": "hm"
    },
    "kernelspec": {
      "name": "python3",
      "display_name": "Python 3"
    },
    "language_info": {
      "name": "python"
    },
    "accelerator": "GPU"
  },
  "cells": [
    {
      "cell_type": "code",
      "source": [
        "%%bash\n",
        "cd /content/ && git clone https://github.com/ASprabhu/DepthPerception.git"
      ],
      "metadata": {
        "colab": {
          "base_uri": "https://localhost:8080/"
        },
        "id": "H6OHzSc4hSS5",
        "outputId": "4955d2f8-1de1-4324-d792-f733c5a6f7c3"
      },
      "execution_count": 2,
      "outputs": [
        {
          "output_type": "stream",
          "name": "stderr",
          "text": [
            "Cloning into 'DepthPerception'...\n"
          ]
        }
      ]
    },
    {
      "cell_type": "code",
      "source": [
        "!unzip /content/DepthPerception/Data/KITTI_mini.zip -d /content/DepthPerception/Data/."
      ],
      "metadata": {
        "id": "N0BzCjSChV62"
      },
      "execution_count": null,
      "outputs": []
    },
    {
      "cell_type": "code",
      "source": [
        "### Uncomment if you want to attach drive\n",
        "\n",
        "# !apt-get install -y -qq software-properties-common python-software-properties module-init-tools\n",
        "# !add-apt-repository -y ppa:alessandro-strada/ppa 2>&1 > /dev/null\n",
        "# !apt-get update -qq 2>&1 > /dev/null\n",
        "# !apt-get -y install -qq google-drive-ocamlfuse fuse\n",
        "# from google.colab import auth\n",
        "# auth.authenticate_user()\n",
        "# from oauth2client.client import GoogleCredentials\n",
        "# creds = GoogleCredentials.get_application_default()\n",
        "# import getpass\n",
        "# !google-drive-ocamlfuse -headless -id={creds.client_id} -secret={creds.client_secret} < /dev/null 2>&1 | grep URL\n",
        "# vcode = getpass.getpass()\n",
        "# !echo {vcode} | google-drive-ocamlfuse -headless -id={creds.client_id} -secret={creds.client_secret}\n",
        "# %cd /content\n",
        "# !mkdir drive\n",
        "# %cd drive\n",
        "# !mkdir MyDrive\n",
        "# %cd ..\n",
        "# %cd ..\n",
        "# !google-drive-ocamlfuse /content/drive/MyDrive"
      ],
      "metadata": {
        "id": "14r0yNO2ihjU"
      },
      "execution_count": null,
      "outputs": []
    },
    {
      "cell_type": "code",
      "source": [
        "import torch\n",
        "import torchvision\n",
        "import cv2\n",
        "import numpy as np\n",
        "import time\n",
        "import math\n",
        "import torch.nn as nn\n",
        "\n",
        "img = cv2.imread(\"/content/DepthPerception/Data/KITTI_mini/object/training/image_2/000001.png\")\n",
        "# print(img.shape)\n",
        "trans_img = np.transpose(img, (2, 0, 1))\n",
        "tens = torch.from_numpy(trans_img)\n",
        "img_tensor = tens.type(torch.FloatTensor)\n",
        "img_tensor = img_tensor/255.0\n",
        "\n",
        "model = torchvision.models.detection.maskrcnn_resnet50_fpn(pretrained=True)\n",
        "model.eval()\n",
        "\n",
        "start = time.time()\n",
        "preds = model([img_tensor])\n",
        "end = time.time()\n",
        "\n",
        "# print(preds.shape)"
      ],
      "metadata": {
        "id": "Ja55XRZFlcn8"
      },
      "execution_count": 5,
      "outputs": []
    },
    {
      "cell_type": "code",
      "source": [
        "'''\n",
        "Mask RCNN outputs:\n",
        "n = number of instances detected\n",
        "[{'boxes' : torch.Size([n, 4]),\n",
        "  'labels' : torch.Size(n),\n",
        "  'scores' : torch.Size(n),\n",
        "  'masks' : torch.Size(n,1,img.shape[0],img.shape[1])\n",
        "  }]\n",
        "'''\n"
      ],
      "metadata": {
        "colab": {
          "base_uri": "https://localhost:8080/"
        },
        "id": "jh7sr59TIeJ3",
        "outputId": "0a0258bc-68a7-45e9-fbda-25240578efbc"
      },
      "execution_count": 42,
      "outputs": [
        {
          "output_type": "execute_result",
          "data": {
            "text/plain": [
              "dict_keys(['boxes', 'labels', 'scores', 'masks'])"
            ]
          },
          "metadata": {},
          "execution_count": 42
        }
      ]
    },
    {
      "cell_type": "code",
      "source": [
        "# import matplotlib.pyplot as plt\n",
        "# m1 = preds[0]['masks'].detach().numpy()\n",
        "# plt.imshow(m1[1][0])"
      ],
      "metadata": {
        "colab": {
          "base_uri": "https://localhost:8080/",
          "height": 171
        },
        "id": "foi6GplcK0Nn",
        "outputId": "27e2f5e5-bc5b-4fe4-96bc-a68121328d4c"
      },
      "execution_count": 41,
      "outputs": [
        {
          "output_type": "execute_result",
          "data": {
            "text/plain": [
              "<matplotlib.image.AxesImage at 0x7fd2b75abb50>"
            ]
          },
          "metadata": {},
          "execution_count": 41
        },
        {
          "output_type": "display_data",
          "data": {
            "image/png": "[encoded data removed]",
            "text/plain": [
              "<Figure size 432x288 with 1 Axes>"
            ]
          },
          "metadata": {
            "needs_background": "light"
          }
        }
      ]
    },
    {
      "cell_type": "code",
      "source": [
        "calib_path = '/content/DepthPerception/Data/KITTI_mini/object/training/calib/000001.txt'\n",
        "''' Read in a calibration file and parse into a dictionary.\n",
        "Ref: https://github.com/utiasSTARS/pykitti/blob/master/pykitti/utils.py\n",
        "'''\n",
        "calib_data = {}\n",
        "with open(calib_path, 'r') as f:\n",
        "    for line in f.readlines():\n",
        "        line = line.rstrip()\n",
        "        if len(line) == 0: continue\n",
        "        key, value = line.split(':', 1)\n",
        "        # The only non-float values in these files are dates, which\n",
        "        # we don't care about anyway\n",
        "        try:\n",
        "            calib_data[key] = np.array([float(x) for x in value.split()])\n",
        "        except ValueError:\n",
        "            pass"
      ],
      "metadata": {
        "id": "fFQSJuJ_s9xg"
      },
      "execution_count": 6,
      "outputs": []
    },
    {
      "cell_type": "code",
      "source": [
        "calib_mat = calib_data['P2']\n",
        "calib_mat = np.transpose(calib_mat.reshape((3,4)))\n",
        "calib_mat"
      ],
      "metadata": {
        "colab": {
          "base_uri": "https://localhost:8080/"
        },
        "id": "FYgABNfu4-os",
        "outputId": "b6d1bbc0-014f-4f61-d84d-547cfe8291f5"
      },
      "execution_count": 7,
      "outputs": [
        {
          "output_type": "execute_result",
          "data": {
            "text/plain": [
              "array([[7.215377e+02, 0.000000e+00, 0.000000e+00],\n",
              "       [0.000000e+00, 7.215377e+02, 0.000000e+00],\n",
              "       [6.095593e+02, 1.728540e+02, 1.000000e+00],\n",
              "       [4.485728e+01, 2.163791e-01, 2.745884e-03]])"
            ]
          },
          "metadata": {},
          "execution_count": 7
        }
      ]
    },
    {
      "cell_type": "code",
      "source": [
        "label_path = '/content/DepthPerception/Data/KITTI_mini/object/training/label_2/000001.txt'\n",
        "label = []\n",
        "with open(label_path,'r') as f:\n",
        "  for line in f.readlines():\n",
        "    line = line.rstrip().split(' ')\n",
        "    print(line[0])\n",
        "    line = [line[0]] + list(map(float,line[1:]))\n",
        "    label.append(line)\n",
        "label"
      ],
      "metadata": {
        "id": "NoCIdBAf5LGY"
      },
      "execution_count": null,
      "outputs": []
    },
    {
      "cell_type": "code",
      "source": [
        "def get_coordinates(n):\n",
        "  # print(((-1)**(n)))\n",
        "  x = x_c + ((-1)**(n))*del_x + ((-1)**int(n/4))*del_theta\n",
        "  y = y_c + ((-1)**int(n/2))*del_y\n",
        "  z = z_c + ((-1)**int(n/4))*del_z\n",
        "  # print(x,y,z)\n",
        "  return [x,y,z,1]"
      ],
      "metadata": {
        "id": "kIl-DapVN7eK"
      },
      "execution_count": 20,
      "outputs": []
    },
    {
      "cell_type": "code",
      "source": [
        "def mbr(arr):\n",
        "  x_min = min(arr[:,0])\n",
        "  x_max = max(arr[:,0])\n",
        "  y_min = min(arr[:,1])\n",
        "  y_max = max(arr[:,1])\n",
        "  return torch.FloatTensor([x_min,y_min,x_max,y_max])"
      ],
      "metadata": {
        "id": "S8c6tR8vJcuv"
      },
      "execution_count": 21,
      "outputs": []
    },
    {
      "cell_type": "code",
      "source": [
        "coord_3D = []\n",
        "loss = nn.SmoothL1Loss(beta=1.0)\n",
        "loss_list = []\n",
        "param = ['h','w','l','x','c','y','c','z','c','theta']\n",
        "for i in range(len(label)):\n",
        "  (h,w,l,x_c,y_c,z_c,theta) = tuple(label[i][8:])\n",
        "  # coord_3D.append(dict(zip(param,label[i][8:])))\n",
        "  del_x = w/2\n",
        "  del_y = h/2\n",
        "  del_z = l/2\n",
        "  del_theta = del_z*np.cos(theta)\n",
        "  coord = []\n",
        "  for i in range(8):\n",
        "    temp = get_coordinates(i+1)\n",
        "    # print(temp)\n",
        "  coord.append(temp)\n",
        "  coord_2D = (np.array(coord)@calib_mat)\n",
        "  coord_2D[:,0] = coord_2D[:,0]/coord_2D[:,2]\n",
        "  coord_2D[:,1] = coord_2D[:,1]/coord_2D[:,2]\n",
        "  mbr_e = mbr(coord_2D)\n",
        "  mbr_p = preds[0]['boxes'][i]\n",
        "  l1 = loss(mbr_e, mbr_p)\n",
        "  loss_list.append(l1)"
      ],
      "metadata": {
        "id": "srtRt3torgRn"
      },
      "execution_count": 22,
      "outputs": []
    },
    {
      "cell_type": "code",
      "source": [
        "loss_list"
      ],
      "metadata": {
        "colab": {
          "base_uri": "https://localhost:8080/"
        },
        "id": "yWOcKjjxaKF2",
        "outputId": "2ba36bd7-8202-4068-9015-cfc131e06edd"
      },
      "execution_count": 23,
      "outputs": [
        {
          "output_type": "execute_result",
          "data": {
            "text/plain": [
              "[tensor(251.8394, grad_fn=<SmoothL1LossBackward0>),\n",
              " tensor(348.4637, grad_fn=<SmoothL1LossBackward0>),\n",
              " tensor(219.2679, grad_fn=<SmoothL1LossBackward0>),\n",
              " tensor(445.5009, grad_fn=<SmoothL1LossBackward0>),\n",
              " tensor(445.5009, grad_fn=<SmoothL1LossBackward0>),\n",
              " tensor(445.5009, grad_fn=<SmoothL1LossBackward0>),\n",
              " tensor(445.5009, grad_fn=<SmoothL1LossBackward0>)]"
            ]
          },
          "metadata": {},
          "execution_count": 23
        }
      ]
    },
    {
      "cell_type": "code",
      "source": [
        "# coord = []\n",
        "# for i in range(8):\n",
        "#   temp = get_coordinates(i+1)\n",
        "#   # print(temp)\n",
        "#   coord.append(temp)\n"
      ],
      "metadata": {
        "id": "P-1SWsuM0J8y"
      },
      "execution_count": 17,
      "outputs": []
    },
    {
      "cell_type": "code",
      "source": [
        "# coord_2D = (np.array(coord)@np.transpose(calib_mat))\n",
        "# coord_2D[:,0] = coord_2D[:,0]/coord_2D[:,2]\n",
        "# coord_2D[:,1] = coord_2D[:,1]/coord_2D[:,2]\n",
        "# coord_2D"
      ],
      "metadata": {
        "id": "XvKPEruqHMly"
      },
      "execution_count": 18,
      "outputs": []
    },
    {
      "cell_type": "code",
      "source": [
        "# mbr_e = mbr(coord_2D)"
      ],
      "metadata": {
        "id": "Kt8U8HKmXiSf"
      },
      "execution_count": 19,
      "outputs": []
    },
    {
      "cell_type": "code",
      "source": [
        "'''\n",
        "Possible concerns:\n",
        "1. Pretrained Mask RCNN might not work for us\n",
        "2. Instances predicted are way more than labels so how can we get the one-to-one correspondance?\n",
        "3. Mistake in the pipeline?\n",
        "4. How to treat the DontCare values? What are those?\n",
        "5. Check get_coordinate function\n",
        "'''"
      ],
      "metadata": {
        "id": "mK-fJOknXMSZ"
      },
      "execution_count": null,
      "outputs": []
    }
  ]
}